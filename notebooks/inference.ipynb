{
 "cells": [
  {
   "cell_type": "code",
   "execution_count": 1,
   "metadata": {},
   "outputs": [],
   "source": [
    "import os\n",
    "import json\n",
    "\n",
    "import torch\n",
    "import numpy as np\n",
    "import pandas as pd\n",
    "\n",
    "from mtgc.ai.data import load_cards_data, load_draft_data\n",
    "from mtgc.ai.preprocessing import CardPreprocessor, filter_draft_data\n",
    "from mtgc.ai.model import DraftPicker\n",
    "from mtgc.ai.inference import DraftPickerInference"
   ]
  },
  {
   "cell_type": "code",
   "execution_count": 2,
   "metadata": {},
   "outputs": [],
   "source": [
    "draft_data_dtypes_path = \"../data/mkm/17lands/draft_data_public.MKM.PremierDraft.columns.json\"\n",
    "draft_data_path = \"../data/mkm/17lands/draft_data_public.MKM.PremierDraft.csv\"\n",
    "card_folder = \"../data/mkm/cards\"\n",
    "model_folder = \"../models/draft_picker/mkm\""
   ]
  },
  {
   "cell_type": "code",
   "execution_count": 3,
   "metadata": {
    "metadata": {}
   },
   "outputs": [],
   "source": [
    "with open(os.path.join(model_folder, \"hyper_parameters.json\"), \"r\") as f:\n",
    "    hyper_parameters = json.load(f)"
   ]
  },
  {
   "cell_type": "code",
   "execution_count": 4,
   "metadata": {
    "metadata": {}
   },
   "outputs": [
    {
     "name": "stdout",
     "output_type": "stream",
     "text": [
      "Load draft data from '../data/mkm/17lands/draft_data_public.MKM.PremierDraft.csv'\n"
     ]
    }
   ],
   "source": [
    "draft_data_df = load_draft_data(draft_data_path, draft_data_dtypes_path, nrows=100_000)"
   ]
  },
  {
   "cell_type": "code",
   "execution_count": 5,
   "metadata": {
    "metadata": {}
   },
   "outputs": [
    {
     "name": "stdout",
     "output_type": "stream",
     "text": [
      "Load card data from '../data/mkm/cards'\n"
     ]
    }
   ],
   "source": [
    "cards_data_dict = load_cards_data(card_folder)"
   ]
  },
  {
   "cell_type": "code",
   "execution_count": 6,
   "metadata": {
    "metadata": {}
   },
   "outputs": [
    {
     "name": "stdout",
     "output_type": "stream",
     "text": [
      "Filter draft data (current shape: (100000, 666))\n",
      "Filtering done (new shape: (6438, 666))\n"
     ]
    }
   ],
   "source": [
    "draft_data_df = filter_draft_data(draft_data_df, cards_data_dict)"
   ]
  },
  {
   "cell_type": "code",
   "execution_count": 7,
   "metadata": {},
   "outputs": [],
   "source": [
    "card_preprocessor = CardPreprocessor(\n",
    "    card_type_vocabulary = [\n",
    "        \"Land\",\n",
    "        \"Creature\",\n",
    "        \"Artifact\",\n",
    "        \"Enchantment\",\n",
    "        \"Planeswalker\",\n",
    "        \"Battle\",\n",
    "        \"Instant\",\n",
    "        \"Sorcery\"\n",
    "    ],\n",
    "    keyword_vocabulary = [\n",
    "        \"Attach\",\n",
    "        \"Counter\",\n",
    "        \"Exile\",\n",
    "        \"Fight\",\n",
    "        \"Mill\",\n",
    "        \"Sacrifice\",\n",
    "        \"Scry\",\n",
    "        \"Tap\",\n",
    "        \"Untap\",\n",
    "        \"Deathtouch\",\n",
    "        \"Defender\",\n",
    "        \"Double strike\",\n",
    "        \"Enchant\",\n",
    "        \"Equip\",\n",
    "        \"First strike\",\n",
    "        \"Flash\",\n",
    "        \"Flying\",\n",
    "        \"Haste\",\n",
    "        \"Hexproof\",\n",
    "        \"Indestructible\",\n",
    "        \"Lifelink\",\n",
    "        \"Menace\",\n",
    "        \"Protection\",\n",
    "        \"Prowess\",\n",
    "        \"Reach\",\n",
    "        \"Trample\",\n",
    "        \"Vigilance\"\n",
    "    ]\n",
    ")"
   ]
  },
  {
   "cell_type": "code",
   "execution_count": 8,
   "metadata": {
    "metadata": {}
   },
   "outputs": [
    {
     "name": "stderr",
     "output_type": "stream",
     "text": [
      "/home/gcoter/projects/personal/magic-the-gathering-collection/venv/lib/python3.8/site-packages/torch/nn/modules/transformer.py:286: UserWarning: enable_nested_tensor is True, but self.use_nested_tensor is False because encoder_layer.self_attn.batch_first was not True(use batch_first for better inference performance)\n",
      "  warnings.warn(f\"enable_nested_tensor is True, but self.use_nested_tensor is False because {why_not_sparsity_fast_path}\")\n"
     ]
    },
    {
     "data": {
      "text/plain": [
       "DraftPicker(\n",
       "  (input_mlp): Sequential(\n",
       "    (0): Linear(in_features=45, out_features=128, bias=True)\n",
       "    (1): ReLU()\n",
       "  )\n",
       "  (transformer_encoder): TransformerEncoder(\n",
       "    (layers): ModuleList(\n",
       "      (0-9): 10 x TransformerEncoderLayer(\n",
       "        (self_attn): MultiheadAttention(\n",
       "          (out_proj): NonDynamicallyQuantizableLinear(in_features=128, out_features=128, bias=True)\n",
       "        )\n",
       "        (linear1): Linear(in_features=128, out_features=2048, bias=True)\n",
       "        (dropout): Dropout(p=0.1, inplace=False)\n",
       "        (linear2): Linear(in_features=2048, out_features=128, bias=True)\n",
       "        (norm1): LayerNorm((128,), eps=1e-05, elementwise_affine=True)\n",
       "        (norm2): LayerNorm((128,), eps=1e-05, elementwise_affine=True)\n",
       "        (dropout1): Dropout(p=0.1, inplace=False)\n",
       "        (dropout2): Dropout(p=0.1, inplace=False)\n",
       "      )\n",
       "    )\n",
       "  )\n",
       "  (output_mlp): Sequential(\n",
       "    (0): Linear(in_features=128, out_features=1, bias=True)\n",
       "  )\n",
       ")"
      ]
     },
     "execution_count": 8,
     "metadata": {},
     "output_type": "execute_result"
    }
   ],
   "source": [
    "model = DraftPicker(**hyper_parameters)\n",
    "model.load_state_dict(torch.load(os.path.join(model_folder, \"model.pt\")))\n",
    "model.eval()"
   ]
  },
  {
   "cell_type": "code",
   "execution_count": 9,
   "metadata": {
    "metadata": {}
   },
   "outputs": [],
   "source": [
    "inference_engine = DraftPickerInference(model, cards_data_dict, card_preprocessor)"
   ]
  },
  {
   "cell_type": "code",
   "execution_count": 10,
   "metadata": {
    "metadata": {}
   },
   "outputs": [
    {
     "name": "stdout",
     "output_type": "stream",
     "text": [
      "\n",
      "===== Situation =====\n",
      "\n",
      "# Pool\n",
      "\n",
      "1 Deadly Complication\n",
      "1 Dog Walker\n",
      "1 Expose the Culprit\n",
      "1 Frantic Scapegoat\n",
      "1 Galvanize\n",
      "1 Gearbane Orangutan\n",
      "1 Glint Weaver\n",
      "1 Gravestone Strider\n",
      "1 Greenbelt Radical\n",
      "1 Harried Dronesmith\n",
      "1 Innocent Bystander\n",
      "1 Jaded Analyst\n",
      "1 Leering Onlooker\n",
      "1 Murder\n",
      "1 Nervous Gardener\n",
      "1 Offender at Large\n",
      "1 Pick Your Poison\n",
      "1 Public Thoroughfare\n",
      "1 Push // Pull\n",
      "1 Reckless Detective\n",
      "3 Red Herring\n",
      "1 Riftburst Hellion\n",
      "1 Rubblebelt Braggart\n",
      "2 Shock\n",
      "1 Slice from the Shadows\n",
      "2 Torch the Witness\n",
      "\n",
      "# Pack\n",
      "\n",
      "1 A Killer Among Us\n",
      "1 Connecting the Dots\n",
      "1 Crowd-Control Warden\n",
      "1 Fanatical Strength\n",
      "1 Hustle // Bustle\n",
      "1 Lumbering Laundry\n",
      "1 Out Cold\n",
      "1 Person of Interest\n",
      "1 They Went This Way\n",
      "\n",
      "\n",
      "===== Predictions =====\n",
      "\n",
      "Pack - A Killer Among Us                 ##########(0.11)\n",
      "Pack - Connecting the Dots               ###################(0.20)\n",
      "Pack - Crowd-Control Warden              #####################(0.22)\n",
      "Pack - Fanatical Strength                ################(0.17)\n",
      "Pack - Hustle // Bustle                  #############(0.14)\n",
      "Pack - Lumbering Laundry                 ###########(0.12)\n",
      "Pack - Out Cold                          ##(0.03)\n",
      "Pack - Person of Interest                ##(0.02) <-- Chosen by player\n",
      "Pack - They Went This Way                (0.01)\n",
      "\n",
      "\n",
      "===== Explanation =====\n",
      "\n",
      "# Candidate card: 'Pack - A Killer Among Us' (predicted probability: 10.9%)\n",
      "Pack - A Killer Among Us - 17lands_GIH_WR   -0.824212\n",
      "Pack - A Killer Among Us - mana_cost_G       0.793369\n",
      "Pack - A Killer Among Us - mana_cost_U      -0.697074\n",
      "Pack - A Killer Among Us - mana_cost_R      -0.429165\n",
      "Pack - A Killer Among Us - toughness         0.298902\n",
      "Pack - A Killer Among Us - mana_cost_W      -0.248543\n",
      "Pack - A Killer Among Us - has_fight         0.241353\n",
      "Pack - A Killer Among Us - mana_cost_B       0.238294\n",
      "Pack - Person of Interest - mana_cost_U      0.230726\n",
      "Pack - A Killer Among Us - has_exile         0.225361\n",
      "dtype: float32\n",
      "\n",
      "# Candidate card: 'Pack - Connecting the Dots' (predicted probability: 19.8%)\n",
      "Pack - Crowd-Control Warden - 17lands_GIH_WR    0.346070\n",
      "Pack - Person of Interest - mana_cost_U         0.175612\n",
      "Pack - A Killer Among Us - mana_cost_U          0.166704\n",
      "Pack - Fanatical Strength - mana_cost_W        -0.163436\n",
      "Pack - A Killer Among Us - mana_cost_G         -0.157369\n",
      "Pack - A Killer Among Us - 17lands_GIH_WR       0.154797\n",
      "Pack - Crowd-Control Warden - mana_cost_R       0.146128\n",
      "Pack - Person of Interest - mana_cost_B         0.144792\n",
      "Pack - Person of Interest - mana_cost_G         0.130477\n",
      "Pack - Connecting the Dots - 17lands_GIH_WR    -0.121737\n",
      "dtype: float32\n",
      "\n",
      "# Candidate card: 'Pack - Crowd-Control Warden' (predicted probability: 21.8%)\n",
      "Pack - Crowd-Control Warden - 17lands_GIH_WR   -1.714015\n",
      "Pack - Crowd-Control Warden - mana_cost_R      -0.717522\n",
      "Pack - Crowd-Control Warden - has_attach        0.542278\n",
      "Pack - Crowd-Control Warden - mana_cost_B       0.501128\n",
      "Pack - Crowd-Control Warden - mana_cost_G       0.495346\n",
      "Pack - Crowd-Control Warden - has_exile         0.475690\n",
      "Pack - Crowd-Control Warden - mana_cost_C       0.405823\n",
      "Pack - Crowd-Control Warden - mana_cost_W       0.395587\n",
      "Pack - Crowd-Control Warden - has_deathtouch    0.326997\n",
      "Pack - Crowd-Control Warden - has_enchant       0.315541\n",
      "dtype: float32\n",
      "\n",
      "# Candidate card: 'Pack - Fanatical Strength' (predicted probability: 16.7%)\n",
      "Pack - Fanatical Strength - 17lands_GIH_WR     -0.530384\n",
      "Pack - Fanatical Strength - mana_cost_U        -0.444481\n",
      "Pack - Crowd-Control Warden - 17lands_GIH_WR    0.379273\n",
      "Pack - Fanatical Strength - mana_cost_W         0.339688\n",
      "Pack - Fanatical Strength - mana_cost_R        -0.276436\n",
      "Pack - Fanatical Strength - mana_cost_B        -0.217824\n",
      "Pack - Fanatical Strength - has_prowess        -0.192131\n",
      "Pack - Fanatical Strength - has_untap           0.187723\n",
      "Pack - A Killer Among Us - mana_cost_G         -0.180466\n",
      "Pack - Fanatical Strength - mana_cost_C         0.164630\n",
      "dtype: float32\n",
      "\n",
      "# Candidate card: 'Pack - Hustle // Bustle' (predicted probability: 13.5%)\n",
      "Pack - Hustle // Bustle - mana_cost_W          -0.411399\n",
      "Pack - Crowd-Control Warden - 17lands_GIH_WR    0.361588\n",
      "Pack - Hustle // Bustle - 17lands_GIH_WR       -0.339306\n",
      "Pack - Person of Interest - mana_cost_U        -0.241259\n",
      "Pack - Hustle // Bustle - mana_cost_B           0.198042\n",
      "Pack - Hustle // Bustle - mana_cost_C          -0.187907\n",
      "Pack - Person of Interest - 17lands_GIH_WR      0.184049\n",
      "Pack - Hustle // Bustle - mana_cost_G          -0.183940\n",
      "Pack - Hustle // Bustle - mana_cost_R           0.183075\n",
      "Pack - Fanatical Strength - 17lands_GIH_WR      0.178727\n",
      "dtype: float32\n",
      "\n",
      "# Candidate card: 'Pack - Lumbering Laundry' (predicted probability: 11.7%)\n",
      "Pack - Lumbering Laundry - mana_cost_G         -0.350559\n",
      "Pack - Crowd-Control Warden - 17lands_GIH_WR    0.312198\n",
      "Pack - Person of Interest - mana_cost_U        -0.243997\n",
      "Pack - Person of Interest - 17lands_GIH_WR      0.180876\n",
      "Pack - Lumbering Laundry - mana_cost_W          0.163920\n",
      "Pack - Person of Interest - mana_cost_W         0.161163\n",
      "Pack - Person of Interest - mana_cost_G        -0.151906\n",
      "Pack - Crowd-Control Warden - mana_cost_R       0.121238\n",
      "Pack - Hustle // Bustle - mana_cost_W           0.120362\n",
      "Pack - Fanatical Strength - 17lands_GIH_WR      0.113896\n",
      "dtype: float32\n",
      "\n",
      "# Candidate card: 'Pack - Out Cold' (predicted probability: 2.9%)\n",
      "Pack - Out Cold - 17lands_GIH_WR             -0.486868\n",
      "Pack - Out Cold - mana_cost_U                -0.237618\n",
      "Pack - Out Cold - mana_cost_C                 0.231841\n",
      "Pack - Out Cold - mana_cost_R                -0.186924\n",
      "Pack - Out Cold - has_prowess                -0.171801\n",
      "Pack - Person of Interest - mana_cost_G      -0.166672\n",
      "Pack - Out Cold - has_tap                    -0.159608\n",
      "Pack - Out Cold - has_sacrifice              -0.150478\n",
      "Pack - Person of Interest - mana_cost_U      -0.145019\n",
      "Pack - Person of Interest - 17lands_GIH_WR    0.143671\n",
      "dtype: float32\n",
      "\n",
      "# Candidate card: 'Pack - Person of Interest' (predicted probability: 2.0%)\n",
      "Pack - Person of Interest - 17lands_GIH_WR   -0.222410\n",
      "Pack - Person of Interest - mana_cost_C       0.112446\n",
      "Pack - Person of Interest - mana_cost_B      -0.098109\n",
      "Pack - Person of Interest - mana_cost_W       0.094102\n",
      "Pack - They Went This Way - 17lands_GIH_WR    0.086147\n",
      "Pack - Person of Interest - mana_cost_R       0.072912\n",
      "Pack - Person of Interest - has_tap          -0.071107\n",
      "Pack - Out Cold - 17lands_GIH_WR              0.067183\n",
      "Pack - Person of Interest - has_sacrifice    -0.063450\n",
      "Pack - They Went This Way - mana_cost_G       0.055422\n",
      "dtype: float32\n",
      "\n",
      "# Candidate card: 'Pack - They Went This Way' (predicted probability: 0.5%)\n",
      "Pack - They Went This Way - 17lands_GIH_WR    0.125052\n",
      "Pack - They Went This Way - mana_cost_G       0.040590\n",
      "Pack - They Went This Way - has_tap           0.029661\n",
      "Pack - They Went This Way - toughness         0.028637\n",
      "Pack - They Went This Way - has_sacrifice     0.026966\n",
      "Pack - They Went This Way - mana_cost_W       0.026558\n",
      "Pack - Person of Interest - 17lands_GIH_WR   -0.026495\n",
      "Pack - They Went This Way - has_protection    0.020711\n",
      "Pack - They Went This Way - has_vigilance     0.018553\n",
      "Pack - They Went This Way - has_menace        0.017421\n",
      "dtype: float32\n",
      "\n"
     ]
    }
   ],
   "source": [
    "index = np.random.randint(len(draft_data_df))\n",
    "\n",
    "row_dict = draft_data_df.iloc[index].to_dict()\n",
    "picked_card = row_dict[\"pick\"]\n",
    "pool_cards = {\n",
    "    column.replace(\"pool_\", \"\").replace(\"/\", \" - \"): value\n",
    "    for column, value in row_dict.items()\n",
    "    if column.startswith(\"pool_\") and value > 0 and column.replace(\"pool_\", \"\").replace(\"/\", \" - \") in cards_data_dict\n",
    "}\n",
    "pack_cards = {\n",
    "    column.replace(\"pack_card_\", \"\").replace(\"/\", \" - \"): value\n",
    "    for column, value in row_dict.items()\n",
    "    if column.startswith(\"pack_card_\") and value > 0 and column.replace(\"pack_card_\", \"\").replace(\"/\", \" - \") in cards_data_dict\n",
    "}\n",
    "\n",
    "inference_engine.run(pool_cards, pack_cards, picked_card, explain=True)"
   ]
  },
  {
   "cell_type": "code",
   "execution_count": null,
   "metadata": {},
   "outputs": [],
   "source": []
  }
 ],
 "metadata": {
  "kernelspec": {
   "display_name": "venv",
   "language": "python",
   "name": "python3"
  },
  "language_info": {
   "codemirror_mode": {
    "name": "ipython",
    "version": 3
   },
   "file_extension": ".py",
   "mimetype": "text/x-python",
   "name": "python",
   "nbconvert_exporter": "python",
   "pygments_lexer": "ipython3",
   "version": "3.8.13"
  }
 },
 "nbformat": 4,
 "nbformat_minor": 2
}
